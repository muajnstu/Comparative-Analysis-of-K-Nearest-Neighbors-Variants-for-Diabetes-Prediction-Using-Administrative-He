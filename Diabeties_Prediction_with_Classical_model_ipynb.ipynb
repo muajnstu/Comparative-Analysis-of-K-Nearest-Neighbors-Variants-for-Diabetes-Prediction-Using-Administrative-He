{
  "cells": [
    {
      "cell_type": "markdown",
      "metadata": {
        "id": "view-in-github",
        "colab_type": "text"
      },
      "source": [
        "<a href=\"https://colab.research.google.com/github/muajnstu/DSK-Chain-to-predict-diabeties-/blob/main/Diabeties_Prediction_with_Classical_model_ipynb.ipynb\" target=\"_parent\"><img src=\"https://colab.research.google.com/assets/colab-badge.svg\" alt=\"Open In Colab\"/></a>"
      ]
    },
    {
      "cell_type": "markdown",
      "metadata": {
        "id": "jnrk2cdTzeSd"
      },
      "source": [
        "# Cluster data"
      ]
    },
    {
      "cell_type": "code",
      "execution_count": 1,
      "metadata": {
        "id": "yh9ZHxCtI33u"
      },
      "outputs": [],
      "source": [
        "import numpy as np\n",
        "import pandas as pd\n",
        "from sklearn.model_selection import train_test_split\n",
        "from sklearn.preprocessing import StandardScaler\n",
        "#from sklearn.metrics import (accuracy_score, confusion_matrix, roc_auc_score, f1_score)\n",
        "from sklearn.metrics import (confusion_matrix, accuracy_score, f1_score, roc_auc_score, recall_score, precision_score)\n",
        "from sklearn.neighbors import KNeighborsClassifier\n",
        "from sklearn import neighbors\n",
        "from imblearn.over_sampling import SMOTE\n",
        "from sklearn.base import BaseEstimator, ClassifierMixin\n",
        "from sklearn.svm import LinearSVC\n",
        "from sklearn.naive_bayes import GaussianNB\n",
        "from sklearn.cluster import KMeans\n",
        "from sklearn.svm import SVC\n",
        "from sklearn.tree import DecisionTreeClassifier\n",
        "from sklearn.ensemble import RandomForestClassifier, GradientBoostingClassifier\n",
        "from sklearn.linear_model import LogisticRegression\n",
        "from sklearn.naive_bayes import GaussianNB\n",
        "import shap\n",
        "import matplotlib.pyplot as plt"
      ]
    },
    {
      "cell_type": "code",
      "execution_count": 2,
      "metadata": {
        "id": "wKAx8jZjLg3E"
      },
      "outputs": [],
      "source": [
        "df=pd.read_csv('https://media.githubusercontent.com/media/shahriariit/opendataset/refs/heads/master/DBSCAN_DATA.csv')\n",
        "X = df.drop(columns=['Cluster'])\n",
        "y = df['Cluster']\n",
        "\n",
        "#print(\"Class distribution:\\n\", y.value_counts())\n",
        "# --- Handle Imbalanced Data ---\n",
        "\n",
        "#smote = SMOTE(random_state=42)\n",
        "#X_resampled, y_resampled = smote.fit_resample(X, y)\n",
        "\n",
        "#print(\"Balanced class distribution:\\n\", pd.Series(y_resampled).value_counts())\n",
        "# --- Train/Test Split ---\n",
        "\n",
        "X_train, X_test, y_train, y_test = train_test_split(X, y, test_size=0.2, random_state=46, stratify=y)\n"
      ]
    },
    {
      "cell_type": "code",
      "source": [
        "# metrics function\n",
        "def print_metrics(y_true, y_pred, y_prob=None):\n",
        "    cm = confusion_matrix(y_true, y_pred)\n",
        "    accuracy = accuracy_score(y_true, y_pred)\n",
        "    num_classes = cm.shape[0]\n",
        "\n",
        "    if num_classes == 2:\n",
        "        TN, FP, FN, TP = cm.ravel()\n",
        "        specificity = TN / (TN + FP) if (TN + FP) > 0 else 0\n",
        "        sensitivity = TP / (TP + FN) if (TP + FN) > 0 else 0\n",
        "        gmean = np.sqrt(specificity * sensitivity)\n",
        "        type1 = FP / (FP + TN) if (FP + TN) > 0 else 0\n",
        "        type2 = FN / (TP + FN) if (TP + FN) > 0 else 0\n",
        "        fmeasure = f1_score(y_true, y_pred, pos_label=1)\n",
        "        auc = 0\n",
        "        if y_prob is not None and hasattr(y_prob, \"shape\") and y_prob.shape[1] > 1:\n",
        "            try:\n",
        "                auc = roc_auc_score(y_true, y_prob[:, 1])\n",
        "            except Exception:\n",
        "                auc = 0\n",
        "    else:\n",
        "        TP = np.diag(cm)\n",
        "        FP = np.sum(cm, axis=0) - TP\n",
        "        FN = np.sum(cm, axis=1) - TP\n",
        "        TN = np.sum(cm) - (FP + FN + TP)\n",
        "        specificity = np.mean([TN[i] / (TN[i] + FP[i]) if (TN[i] + FP[i]) > 0 else 0 for i in range(num_classes)])\n",
        "        sensitivity = np.mean([TP[i] / (TP[i] + FN[i]) if (TP[i] + FN[i]) > 0 else 0 for i in range(num_classes)])\n",
        "        gmean = np.sqrt(specificity * sensitivity)\n",
        "        type1 = np.mean([FP[i] / (FP[i] + TN[i]) if (FP[i] + TN[i]) > 0 else 0 for i in range(num_classes)])\n",
        "        type2 = np.mean([FN[i] / (TP[i] + FN[i]) if (TP[i] + FN[i]) > 0 else 0 for i in range(num_classes)])\n",
        "        fmeasure = f1_score(y_true, y_pred, average='macro')\n",
        "        auc = 0\n",
        "        if y_prob is not None and hasattr(y_prob, \"shape\") and y_prob.shape[1] > 1:\n",
        "            try:\n",
        "                auc = roc_auc_score(y_true, y_prob, multi_class='ovr', average='macro')\n",
        "            except Exception:\n",
        "                auc = 0\n",
        "\n",
        "    print(f\"Accuracy      : {accuracy:.4f}\")\n",
        "    print(f\"Sensitivity   : {sensitivity:.4f}\")\n",
        "    print(f\"Specificity   : {specificity:.4f}\")\n",
        "    print(f\"G-Mean        : {gmean:.4f}\")\n",
        "    print(f\"Type I Error  : {type1:.4f}\")\n",
        "    print(f\"Type II Error : {type2:.4f}\")\n",
        "    print(f\"F1 Score      : {fmeasure:.4f}\")\n",
        "    print(f\"AUROC         : {auc:.4f}\")\n",
        "\n",
        "# Universal runner for any model\n",
        "def run_model(name, model, X_train, X_test, y_train, y_test):\n",
        "    print(f\"\\n===== Running {name} =====\")\n",
        "    model.fit(X_train, y_train)\n",
        "    y_pred = model.predict(X_test)\n",
        "    try:\n",
        "        y_prob = model.predict_proba(X_test)\n",
        "    except AttributeError:\n",
        "        y_prob = None\n",
        "    print_metrics(y_test, y_pred, y_prob)\n",
        "\n",
        "#  classical ML models\n",
        "ml_models = {\n",
        "    \"SVM_linear\": SVC(kernel='linear', probability=True, random_state=42),\n",
        "    \"SVM_rbf\": SVC(kernel='rbf', probability=True, random_state=42),\n",
        "    \"DecisionTree\": DecisionTreeClassifier(random_state=42),\n",
        "    \"RandomForest\": RandomForestClassifier(n_estimators=100, random_state=42),\n",
        "    \"GradientBoosting\": GradientBoostingClassifier(n_estimators=100, random_state=42),\n",
        "    \"LogisticRegression\": LogisticRegression(max_iter=1000, random_state=42),\n",
        "    \"NaiveBayes\": GaussianNB()\n",
        "}\n",
        "\n",
        "# Run all models in a loop\n",
        "for name, model in ml_models.items():\n",
        "    run_model(name, model, X_train, X_test, y_train, y_test)"
      ],
      "metadata": {
        "colab": {
          "base_uri": "https://localhost:8080/"
        },
        "id": "t52CySjO6b4b",
        "outputId": "60f0c7a6-c2c3-4fd6-e7a5-7e770db0dd86"
      },
      "execution_count": 3,
      "outputs": [
        {
          "output_type": "stream",
          "name": "stdout",
          "text": [
            "\n",
            "===== Running SVM_linear =====\n",
            "Accuracy      : 0.9345\n",
            "Sensitivity   : 0.1420\n",
            "Specificity   : 0.9945\n",
            "G-Mean        : 0.3758\n",
            "Type I Error  : 0.0055\n",
            "Type II Error : 0.8580\n",
            "F1 Score      : 0.1512\n",
            "AUROC         : 0.9974\n",
            "\n",
            "===== Running SVM_rbf =====\n",
            "Accuracy      : 0.6348\n",
            "Sensitivity   : 0.0357\n",
            "Specificity   : 0.9643\n",
            "G-Mean        : 0.1856\n",
            "Type I Error  : 0.0357\n",
            "Type II Error : 0.9643\n",
            "F1 Score      : 0.0277\n",
            "AUROC         : 0.9054\n",
            "\n",
            "===== Running DecisionTree =====\n",
            "Accuracy      : 0.9646\n",
            "Sensitivity   : 0.8666\n",
            "Specificity   : 0.9979\n",
            "G-Mean        : 0.9299\n",
            "Type I Error  : 0.0021\n",
            "Type II Error : 0.1334\n",
            "F1 Score      : 0.8248\n",
            "AUROC         : 0.9322\n",
            "\n",
            "===== Running RandomForest =====\n",
            "Accuracy      : 0.9767\n",
            "Sensitivity   : 0.8687\n",
            "Specificity   : 0.9988\n",
            "G-Mean        : 0.9315\n",
            "Type I Error  : 0.0012\n",
            "Type II Error : 0.1313\n",
            "F1 Score      : 0.8608\n",
            "AUROC         : 0.9997\n",
            "\n",
            "===== Running GradientBoosting =====\n",
            "Accuracy      : 0.9398\n",
            "Sensitivity   : 0.5788\n",
            "Specificity   : 0.9964\n",
            "G-Mean        : 0.7595\n",
            "Type I Error  : 0.0036\n",
            "Type II Error : 0.4212\n",
            "F1 Score      : 0.4722\n",
            "AUROC         : 0.6694\n",
            "\n",
            "===== Running LogisticRegression =====\n",
            "Accuracy      : 0.9285\n",
            "Sensitivity   : 0.1355\n",
            "Specificity   : 0.9941\n",
            "G-Mean        : 0.3670\n",
            "Type I Error  : 0.0059\n",
            "Type II Error : 0.8645\n",
            "F1 Score      : 0.1444\n",
            "AUROC         : 0.9937\n",
            "\n",
            "===== Running NaiveBayes =====\n",
            "Accuracy      : 0.9563\n",
            "Sensitivity   : 0.9287\n",
            "Specificity   : 0.9980\n",
            "G-Mean        : 0.9628\n",
            "Type I Error  : 0.0020\n",
            "Type II Error : 0.0713\n",
            "F1 Score      : 0.8718\n",
            "AUROC         : 0.9635\n"
          ]
        },
        {
          "output_type": "stream",
          "name": "stderr",
          "text": [
            "/usr/local/lib/python3.11/dist-packages/sklearn/linear_model/_logistic.py:465: ConvergenceWarning: lbfgs failed to converge (status=1):\n",
            "STOP: TOTAL NO. OF ITERATIONS REACHED LIMIT.\n",
            "\n",
            "Increase the number of iterations (max_iter) or scale the data as shown in:\n",
            "    https://scikit-learn.org/stable/modules/preprocessing.html\n",
            "Please also refer to the documentation for alternative solver options:\n",
            "    https://scikit-learn.org/stable/modules/linear_model.html#logistic-regression\n",
            "  n_iter_i = _check_optimize_result(\n"
          ]
        }
      ]
    }
  ],
  "metadata": {
    "accelerator": "GPU",
    "colab": {
      "gpuType": "T4",
      "provenance": [],
      "include_colab_link": true
    },
    "kernelspec": {
      "display_name": "Python 3",
      "name": "python3"
    },
    "language_info": {
      "name": "python"
    }
  },
  "nbformat": 4,
  "nbformat_minor": 0
}