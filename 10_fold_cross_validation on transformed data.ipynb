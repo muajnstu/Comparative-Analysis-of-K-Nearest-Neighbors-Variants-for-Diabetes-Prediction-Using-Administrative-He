{
  "nbformat": 4,
  "nbformat_minor": 0,
  "metadata": {
    "colab": {
      "provenance": [],
      "gpuType": "T4",
      "include_colab_link": true
    },
    "kernelspec": {
      "name": "python3",
      "display_name": "Python 3"
    },
    "language_info": {
      "name": "python"
    },
    "accelerator": "GPU"
  },
  "cells": [
    {
      "cell_type": "markdown",
      "metadata": {
        "id": "view-in-github",
        "colab_type": "text"
      },
      "source": [
        "<a href=\"https://colab.research.google.com/github/muajnstu/Comparative-Analysis-of-K-Nearest-Neighbors-Variants-for-Diabetes-Prediction-Using-Administrative-He/blob/main/10_fold_cross_validation.ipynb\" target=\"_parent\"><img src=\"https://colab.research.google.com/assets/colab-badge.svg\" alt=\"Open In Colab\"/></a>"
      ]
    },
    {
      "cell_type": "code",
      "source": [
        "%pip install imblearn"
      ],
      "metadata": {
        "colab": {
          "base_uri": "https://localhost:8080/"
        },
        "id": "M0jau1tzn81V",
        "outputId": "51f01f1a-1870-4941-d7cd-bc00a7ffa7cd"
      },
      "execution_count": null,
      "outputs": [
        {
          "output_type": "stream",
          "name": "stdout",
          "text": [
            "Collecting imblearn\n",
            "  Downloading imblearn-0.0-py2.py3-none-any.whl.metadata (355 bytes)\n",
            "Requirement already satisfied: imbalanced-learn in /usr/local/lib/python3.11/dist-packages (from imblearn) (0.13.0)\n",
            "Requirement already satisfied: numpy<3,>=1.24.3 in /usr/local/lib/python3.11/dist-packages (from imbalanced-learn->imblearn) (2.0.2)\n",
            "Requirement already satisfied: scipy<2,>=1.10.1 in /usr/local/lib/python3.11/dist-packages (from imbalanced-learn->imblearn) (1.15.3)\n",
            "Requirement already satisfied: scikit-learn<2,>=1.3.2 in /usr/local/lib/python3.11/dist-packages (from imbalanced-learn->imblearn) (1.6.1)\n",
            "Requirement already satisfied: sklearn-compat<1,>=0.1 in /usr/local/lib/python3.11/dist-packages (from imbalanced-learn->imblearn) (0.1.3)\n",
            "Requirement already satisfied: joblib<2,>=1.1.1 in /usr/local/lib/python3.11/dist-packages (from imbalanced-learn->imblearn) (1.5.1)\n",
            "Requirement already satisfied: threadpoolctl<4,>=2.0.0 in /usr/local/lib/python3.11/dist-packages (from imbalanced-learn->imblearn) (3.6.0)\n",
            "Downloading imblearn-0.0-py2.py3-none-any.whl (1.9 kB)\n",
            "Installing collected packages: imblearn\n",
            "Successfully installed imblearn-0.0\n"
          ]
        }
      ]
    },
    {
      "cell_type": "code",
      "source": [
        "%pip install shap"
      ],
      "metadata": {
        "colab": {
          "base_uri": "https://localhost:8080/"
        },
        "id": "pF1K998nn6vm",
        "outputId": "bcc90a11-252c-4cce-a2e9-49a979f20b90"
      },
      "execution_count": null,
      "outputs": [
        {
          "output_type": "stream",
          "name": "stdout",
          "text": [
            "Requirement already satisfied: shap in /usr/local/lib/python3.11/dist-packages (0.48.0)\n",
            "Requirement already satisfied: numpy in /usr/local/lib/python3.11/dist-packages (from shap) (2.0.2)\n",
            "Requirement already satisfied: scipy in /usr/local/lib/python3.11/dist-packages (from shap) (1.15.3)\n",
            "Requirement already satisfied: scikit-learn in /usr/local/lib/python3.11/dist-packages (from shap) (1.6.1)\n",
            "Requirement already satisfied: pandas in /usr/local/lib/python3.11/dist-packages (from shap) (2.2.2)\n",
            "Requirement already satisfied: tqdm>=4.27.0 in /usr/local/lib/python3.11/dist-packages (from shap) (4.67.1)\n",
            "Requirement already satisfied: packaging>20.9 in /usr/local/lib/python3.11/dist-packages (from shap) (25.0)\n",
            "Requirement already satisfied: slicer==0.0.8 in /usr/local/lib/python3.11/dist-packages (from shap) (0.0.8)\n",
            "Requirement already satisfied: numba>=0.54 in /usr/local/lib/python3.11/dist-packages (from shap) (0.60.0)\n",
            "Requirement already satisfied: cloudpickle in /usr/local/lib/python3.11/dist-packages (from shap) (3.1.1)\n",
            "Requirement already satisfied: typing-extensions in /usr/local/lib/python3.11/dist-packages (from shap) (4.14.1)\n",
            "Requirement already satisfied: llvmlite<0.44,>=0.43.0dev0 in /usr/local/lib/python3.11/dist-packages (from numba>=0.54->shap) (0.43.0)\n",
            "Requirement already satisfied: python-dateutil>=2.8.2 in /usr/local/lib/python3.11/dist-packages (from pandas->shap) (2.9.0.post0)\n",
            "Requirement already satisfied: pytz>=2020.1 in /usr/local/lib/python3.11/dist-packages (from pandas->shap) (2025.2)\n",
            "Requirement already satisfied: tzdata>=2022.7 in /usr/local/lib/python3.11/dist-packages (from pandas->shap) (2025.2)\n",
            "Requirement already satisfied: joblib>=1.2.0 in /usr/local/lib/python3.11/dist-packages (from scikit-learn->shap) (1.5.1)\n",
            "Requirement already satisfied: threadpoolctl>=3.1.0 in /usr/local/lib/python3.11/dist-packages (from scikit-learn->shap) (3.6.0)\n",
            "Requirement already satisfied: six>=1.5 in /usr/local/lib/python3.11/dist-packages (from python-dateutil>=2.8.2->pandas->shap) (1.17.0)\n"
          ]
        }
      ]
    },
    {
      "cell_type": "code",
      "execution_count": null,
      "metadata": {
        "id": "JRoZUZ9bmqWj"
      },
      "outputs": [],
      "source": [
        "import numpy as np\n",
        "import pandas as pd\n",
        "import matplotlib.pyplot as plt\n",
        "import shap\n",
        "from sklearn.model_selection import StratifiedKFold\n",
        "from sklearn.neighbors import KNeighborsClassifier\n",
        "from sklearn.metrics import confusion_matrix, accuracy_score, f1_score, roc_auc_score\n",
        "from sklearn.preprocessing import label_binarize\n",
        "from imblearn.over_sampling import SMOTE"
      ]
    },
    {
      "cell_type": "code",
      "source": [
        "# Load data\n",
        "df = pd.read_csv('https://media.githubusercontent.com/media/shahriariit/opendataset/refs/heads/master/DBSCAN_DATA.csv')\n",
        "X = df.drop(columns=['Cluster'])\n",
        "y = df['Cluster']\n",
        "\n",
        "# Handle imbalanced data with SMOTE\n",
        "smote = SMOTE(random_state=42)\n",
        "X_resampled, y_resampled = smote.fit_resample(X, y)"
      ],
      "metadata": {
        "id": "NOos0GhtmtdY"
      },
      "execution_count": null,
      "outputs": []
    },
    {
      "cell_type": "code",
      "source": [
        "# KNN variant definitions\n",
        "def get_knn_variants(X_train):\n",
        "    covariance_matrix = np.cov(X_train.T)\n",
        "    stabilized_covariance_matrix = covariance_matrix + np.eye(covariance_matrix.shape[0]) * 1e-6\n",
        "    inv_covariance_matrix = np.linalg.inv(stabilized_covariance_matrix)\n",
        "    variance_vector = np.var(X_train, axis=0)\n",
        "    knn_variants = {\n",
        "        \"KNN\": KNeighborsClassifier(n_neighbors=3),\n",
        "        \"DistanceKNN\": KNeighborsClassifier(n_neighbors=3, weights='distance'),\n",
        "        \"GeneralizedKNN\": KNeighborsClassifier(n_neighbors=3, metric='minkowski', p=3),\n",
        "        \"EuclideanKNN\": KNeighborsClassifier(n_neighbors=3, metric='euclidean'),\n",
        "        \"ManhattanKNN\": KNeighborsClassifier(n_neighbors=3, metric='manhattan'),\n",
        "        \"ChebyshevKNN\": KNeighborsClassifier(n_neighbors=3, metric='chebyshev'),\n",
        "        \"MahalanobisKNN\": KNeighborsClassifier(n_neighbors=3, metric='mahalanobis', metric_params={'VI': inv_covariance_matrix}),\n",
        "        \"SeuclideanKNN\": KNeighborsClassifier(n_neighbors=3, metric='seuclidean', metric_params={'V': variance_vector}),\n",
        "        \"WminkowskiKNN\": KNeighborsClassifier(n_neighbors=3, metric='minkowski', p=3, metric_params={'w': np.ones(X_train.shape[1])}),\n",
        "    }\n",
        "    return knn_variants"
      ],
      "metadata": {
        "id": "GgLUQMo7mwIf"
      },
      "execution_count": null,
      "outputs": []
    },
    {
      "cell_type": "code",
      "source": [
        "# Metrics calculation\n",
        "def get_metrics(y_true, y_pred, y_prob=None):\n",
        "    cm = confusion_matrix(y_true, y_pred)\n",
        "    accuracy = accuracy_score(y_true, y_pred)\n",
        "    num_classes = cm.shape[0]\n",
        "    # Multiclass metrics\n",
        "    TP = np.diag(cm)\n",
        "    FP = np.sum(cm, axis=0) - TP\n",
        "    FN = np.sum(cm, axis=1) - TP\n",
        "    TN = np.sum(cm) - (FP + FN + TP)\n",
        "    specificity = np.mean([TN[i] / (TN[i] + FP[i]) if (TN[i] + FP[i]) > 0 else 0 for i in range(num_classes)])\n",
        "    sensitivity = np.mean([TP[i] / (TP[i] + FN[i]) if (TP[i] + FN[i]) > 0 else 0 for i in range(num_classes)])\n",
        "    gmean = np.sqrt(specificity * sensitivity)\n",
        "    type1 = np.mean([FP[i] / (FP[i] + TN[i]) if (FP[i] + TN[i]) > 0 else 0 for i in range(num_classes)])\n",
        "    type2 = np.mean([FN[i] / (TP[i] + FN[i]) if (TP[i] + FN[i]) > 0 else 0 for i in range(num_classes)])\n",
        "    fmeasure = f1_score(y_true, y_pred, average='macro')\n",
        "    auc = 0\n",
        "    if y_prob is not None and hasattr(y_prob, \"shape\") and y_prob.shape[1] > 1:\n",
        "        try:\n",
        "            auc = roc_auc_score(y_true, y_prob, multi_class='ovr', average='macro')\n",
        "        except Exception:\n",
        "            auc = 0\n",
        "    return {\n",
        "        \"accuracy\": accuracy,\n",
        "        \"sensitivity\": sensitivity,\n",
        "        \"specificity\": specificity,\n",
        "        \"gmean\": gmean,\n",
        "        \"type1 error\": type1,\n",
        "        \"type2 error\": type2,\n",
        "        \"f1\": fmeasure,\n",
        "        \"auroc\": auc,\n",
        "    }"
      ],
      "metadata": {
        "id": "jim7mfgFmzTG"
      },
      "execution_count": null,
      "outputs": []
    },
    {
      "cell_type": "code",
      "source": [
        "# 10-fold cross-validation\n",
        "skf = StratifiedKFold(n_splits=10, shuffle=True, random_state=42)\n",
        "results = []\n",
        "for fold, (train_idx, test_idx) in enumerate(skf.split(X_resampled, y_resampled)):\n",
        "    X_train_cv, X_test_cv = X_resampled.iloc[train_idx], X_resampled.iloc[test_idx]\n",
        "    y_train_cv, y_test_cv = y_resampled.iloc[train_idx], y_resampled.iloc[test_idx]\n",
        "    knn_variants = get_knn_variants(X_train_cv)\n",
        "    for name, model in knn_variants.items():\n",
        "        model.fit(X_train_cv, y_train_cv)\n",
        "        y_pred = model.predict(X_test_cv)\n",
        "        y_prob = model.predict_proba(X_test_cv) if hasattr(model, \"predict_proba\") else None\n",
        "        metrics = get_metrics(y_test_cv, y_pred, y_prob)\n",
        "        metrics[\"fold\"] = fold+1\n",
        "        metrics[\"variant\"] = name\n",
        "        results.append(metrics)\n",
        "        print(f\"Fold {fold+1} - {name}: \" +\n",
        "              \", \".join([f\"{k}: {v:.4f}\" if isinstance(v, float) else f\"{k}: {v}\" for k,v in metrics.items() if k not in [\"fold\",\"variant\"]]))\n"
      ],
      "metadata": {
        "colab": {
          "base_uri": "https://localhost:8080/"
        },
        "id": "cDPxthiUm2-W",
        "outputId": "d97aba14-0168-4314-ed25-709a4af102d7"
      },
      "execution_count": null,
      "outputs": [
        {
          "output_type": "stream",
          "name": "stdout",
          "text": [
            "Fold 1 - KNN: accuracy: 0.9855, sensitivity: 0.9855, specificity: 0.9995, gmean: 0.9925, type1 error: 0.0005, type2 error: 0.0145, f1: 0.9848, auroc: 0.9956\n",
            "Fold 1 - DistanceKNN: accuracy: 0.9871, sensitivity: 0.9871, specificity: 0.9995, gmean: 0.9933, type1 error: 0.0005, type2 error: 0.0129, f1: 0.9864, auroc: 0.9956\n"
          ]
        }
      ]
    },
    {
      "cell_type": "code",
      "source": [
        "# Results DataFrame\n",
        "results_df = pd.DataFrame(results)\n",
        "mean_results = results_df.groupby(\"variant\").mean().sort_values(\"auroc\", ascending=False)\n",
        "print(\"\\nMean metrics across folds:\\n\", mean_results)"
      ],
      "metadata": {
        "id": "ERIQli0Ym6cX"
      },
      "execution_count": null,
      "outputs": []
    }
  ]
}
