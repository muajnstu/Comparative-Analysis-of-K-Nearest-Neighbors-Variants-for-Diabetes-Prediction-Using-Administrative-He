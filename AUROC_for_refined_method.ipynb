{
  "nbformat": 4,
  "nbformat_minor": 0,
  "metadata": {
    "colab": {
      "provenance": [],
      "gpuType": "T4",
      "include_colab_link": true
    },
    "kernelspec": {
      "name": "python3",
      "display_name": "Python 3"
    },
    "language_info": {
      "name": "python"
    },
    "accelerator": "GPU"
  },
  "cells": [
    {
      "cell_type": "markdown",
      "metadata": {
        "id": "view-in-github",
        "colab_type": "text"
      },
      "source": [
        "<a href=\"https://colab.research.google.com/github/muajnstu/DSK-Chain-to-predict-diabeties-/blob/main/AUROC_for_refined_method.ipynb\" target=\"_parent\"><img src=\"https://colab.research.google.com/assets/colab-badge.svg\" alt=\"Open In Colab\"/></a>"
      ]
    },
    {
      "cell_type": "code",
      "source": [
        "import numpy as np\n",
        "import pandas as pd\n",
        "import matplotlib.pyplot as plt\n",
        "from sklearn.model_selection import train_test_split\n",
        "from sklearn.metrics import confusion_matrix, accuracy_score, f1_score, roc_auc_score\n",
        "from sklearn.metrics import roc_curve, auc\n",
        "from sklearn.preprocessing import label_binarize\n",
        "from sklearn.neighbors import KNeighborsClassifier\n",
        "from sklearn.ensemble import StackingClassifier\n",
        "from imblearn.over_sampling import SMOTE"
      ],
      "metadata": {
        "id": "lkTTKo3q84BX"
      },
      "execution_count": null,
      "outputs": []
    },
    {
      "cell_type": "code",
      "source": [
        "def print_metrics(y_true, y_pred, y_prob=None):\n",
        "    cm = confusion_matrix(y_true, y_pred)\n",
        "    accuracy = accuracy_score(y_true, y_pred)\n",
        "    num_classes = cm.shape[0]\n",
        "\n",
        "    if num_classes == 2:\n",
        "        TN, FP, FN, TP = cm.ravel()\n",
        "        specificity = TN / (TN + FP) if (TN + FP) > 0 else 0\n",
        "        sensitivity = TP / (TP + FN) if (TP + FN) > 0 else 0\n",
        "        gmean = np.sqrt(specificity * sensitivity)\n",
        "        type1 = FP / (FP + TN) if (FP + TN) > 0 else 0\n",
        "        type2 = FN / (TP + FN) if (TP + FN) > 0 else 0\n",
        "        fmeasure = f1_score(y_true, y_pred, pos_label=1)\n",
        "        auc_score = 0\n",
        "        if y_prob is not None and hasattr(y_prob, \"shape\") and y_prob.shape[1] > 1:\n",
        "            try:\n",
        "                auc_score = roc_auc_score(y_true, y_prob[:, 1])\n",
        "            except Exception:\n",
        "                auc_score = 0\n",
        "    else:\n",
        "        TP = np.diag(cm)\n",
        "        FP = np.sum(cm, axis=0) - TP\n",
        "        FN = np.sum(cm, axis=1) - TP\n",
        "        TN = np.sum(cm) - (FP + FN + TP)\n",
        "        specificity = np.mean([\n",
        "            TN[i] / (TN[i] + FP[i]) if (TN[i] + FP[i]) > 0 else 0 for i in range(num_classes)\n",
        "        ])\n",
        "        sensitivity = np.mean([\n",
        "            TP[i] / (TP[i] + FN[i]) if (TP[i] + FN[i]) > 0 else 0 for i in range(num_classes)\n",
        "        ])\n",
        "        gmean = np.sqrt(specificity * sensitivity)\n",
        "        type1 = np.mean([\n",
        "            FP[i] / (FP[i] + TN[i]) if (FP[i] + TN[i]) > 0 else 0 for i in range(num_classes)\n",
        "        ])\n",
        "        type2 = np.mean([\n",
        "            FN[i] / (TP[i] + FN[i]) if (TP[i] + FN[i]) > 0 else 0 for i in range(num_classes)\n",
        "        ])\n",
        "        fmeasure = f1_score(y_true, y_pred, average='macro')\n",
        "        auc_score = 0\n",
        "        if y_prob is not None and hasattr(y_prob, \"shape\") and y_prob.shape[1] > 1:\n",
        "            try:\n",
        "                auc_score = roc_auc_score(y_true, y_prob, multi_class='ovr', average='macro')\n",
        "            except Exception:\n",
        "                auc_score = 0\n",
        "\n",
        "    print(f\"Accuracy      : {accuracy:.4f}\")\n",
        "    print(f\"Sensitivity   : {sensitivity:.4f}\")\n",
        "    print(f\"Specificity   : {specificity:.4f}\")\n",
        "    print(f\"G-Mean        : {gmean:.4f}\")\n",
        "    print(f\"Type I Error  : {type1:.4f}\")\n",
        "    print(f\"Type II Error : {type2:.4f}\")\n",
        "    print(f\"F1 Score      : {fmeasure:.4f}\")\n",
        "    print(f\"AUROC         : {auc_score:.4f}\")\n"
      ],
      "metadata": {
        "id": "VVOdwELs9Ds9"
      },
      "execution_count": null,
      "outputs": []
    },
    {
      "cell_type": "code",
      "execution_count": null,
      "metadata": {
        "id": "grUJ_neP8ycl"
      },
      "outputs": [],
      "source": [
        "df = pd.read_csv('https://raw.githubusercontent.com/muajnstu/ML-Datasets/refs/heads/main/filtered_df.csv')\n",
        "X = df.drop(columns=['Cluster'])\n",
        "y = df['Cluster']\n",
        "\n",
        "# Handle Imbalanced Data\n",
        "smote = SMOTE(random_state=42)\n",
        "X_resampled, y_resampled = smote.fit_resample(X, y)\n",
        "\n",
        "# Train/Test Split\n",
        "X_train, X_test, y_train, y_test = train_test_split(\n",
        "    X_resampled, y_resampled, test_size=0.2, random_state=46, stratify=y_resampled\n",
        ")"
      ]
    },
    {
      "cell_type": "code",
      "source": [
        "# Recalculate covariance and variance with the current X_train after SMOTE\n",
        "covariance_matrix = np.cov(X_train.T)\n",
        "stabilized_covariance_matrix = covariance_matrix + np.eye(covariance_matrix.shape[0]) * 1e-6\n",
        "inv_covariance_matrix = np.linalg.inv(stabilized_covariance_matrix)\n",
        "variance_vector = np.var(X_train, axis=0)\n",
        "\n",
        "# KNN Variant Definitions\n",
        "knn_variants = {\n",
        "    \"KNN\": KNeighborsClassifier(n_neighbors=3),\n",
        "    \"D-KNN\": KNeighborsClassifier(n_neighbors=3, weights='distance'),\n",
        "    \"G-KNN\": KNeighborsClassifier(n_neighbors=3, metric='minkowski', p=3),\n",
        "    \"E-KNN\": KNeighborsClassifier(n_neighbors=3, metric='euclidean'),\n",
        "    \"MT-KNN\": KNeighborsClassifier(n_neighbors=3, metric='manhattan'),\n",
        "    \"C-KNN\": KNeighborsClassifier(n_neighbors=3, metric='chebyshev'),\n",
        "    \"ML-KNN\": KNeighborsClassifier(n_neighbors=3, metric='mahalanobis', metric_params={'VI': inv_covariance_matrix}),\n",
        "    \"S-KNN\": KNeighborsClassifier(n_neighbors=3, metric='seuclidean', metric_params={'V': variance_vector}),\n",
        "    \"W-KNN\": KNeighborsClassifier(n_neighbors=3, metric='minkowski', p=3, metric_params={'w': np.ones(X_train.shape[1])})\n",
        "}\n",
        "\n",
        "# Evaluate KNN Variants\n",
        "def run_knn_variant(name, knn_clf):\n",
        "    print(f\"\\n==== {name} ====\")\n",
        "    knn_clf.fit(X_train, y_train)\n",
        "    y_pred = knn_clf.predict(X_test)\n",
        "    if hasattr(knn_clf, \"predict_proba\"):\n",
        "        try:\n",
        "            y_prob = knn_clf.predict_proba(X_test)\n",
        "        except Exception:\n",
        "            y_prob = None\n",
        "    else:\n",
        "        y_prob = None\n",
        "    print_metrics(y_test, y_pred, y_prob)\n",
        "\n",
        "for name, model in knn_variants.items():\n",
        "    run_knn_variant(name, model)\n"
      ],
      "metadata": {
        "colab": {
          "base_uri": "https://localhost:8080/"
        },
        "id": "rx9bEhhz9M_a",
        "outputId": "863348b4-781e-47f7-d376-842c0278394b"
      },
      "execution_count": null,
      "outputs": [
        {
          "output_type": "stream",
          "name": "stdout",
          "text": [
            "\n",
            "==== KNN ====\n",
            "Accuracy      : 0.9217\n",
            "Sensitivity   : 0.9217\n",
            "Specificity   : 0.9608\n",
            "G-Mean        : 0.9411\n",
            "Type I Error  : 0.0392\n",
            "Type II Error : 0.0783\n",
            "F1 Score      : 0.9205\n",
            "AUROC         : 0.9648\n",
            "\n",
            "==== D-KNN ====\n",
            "Accuracy      : 0.9276\n",
            "Sensitivity   : 0.9276\n",
            "Specificity   : 0.9638\n",
            "G-Mean        : 0.9455\n",
            "Type I Error  : 0.0362\n",
            "Type II Error : 0.0724\n",
            "F1 Score      : 0.9264\n",
            "AUROC         : 0.9667\n",
            "\n",
            "==== G-KNN ====\n",
            "Accuracy      : 0.9268\n",
            "Sensitivity   : 0.9268\n",
            "Specificity   : 0.9634\n",
            "G-Mean        : 0.9449\n",
            "Type I Error  : 0.0366\n",
            "Type II Error : 0.0732\n",
            "F1 Score      : 0.9260\n",
            "AUROC         : 0.9673\n",
            "\n",
            "==== E-KNN ====\n",
            "Accuracy      : 0.9217\n",
            "Sensitivity   : 0.9217\n",
            "Specificity   : 0.9608\n",
            "G-Mean        : 0.9411\n",
            "Type I Error  : 0.0392\n",
            "Type II Error : 0.0783\n",
            "F1 Score      : 0.9205\n",
            "AUROC         : 0.9648\n",
            "\n",
            "==== MT-KNN ====\n",
            "Accuracy      : 0.8881\n",
            "Sensitivity   : 0.8881\n",
            "Specificity   : 0.9440\n",
            "G-Mean        : 0.9156\n",
            "Type I Error  : 0.0560\n",
            "Type II Error : 0.1119\n",
            "F1 Score      : 0.8843\n",
            "AUROC         : 0.9506\n",
            "\n",
            "==== C-KNN ====\n",
            "Accuracy      : 0.8845\n",
            "Sensitivity   : 0.8845\n",
            "Specificity   : 0.9423\n",
            "G-Mean        : 0.9129\n",
            "Type I Error  : 0.0577\n",
            "Type II Error : 0.1155\n",
            "F1 Score      : 0.8853\n",
            "AUROC         : 0.9548\n",
            "\n",
            "==== ML-KNN ====\n",
            "Accuracy      : 0.9620\n",
            "Sensitivity   : 0.9620\n",
            "Specificity   : 0.9810\n",
            "G-Mean        : 0.9715\n",
            "Type I Error  : 0.0190\n",
            "Type II Error : 0.0380\n",
            "F1 Score      : 0.9614\n",
            "AUROC         : 0.9812\n",
            "\n",
            "==== S-KNN ====\n",
            "Accuracy      : 0.9537\n",
            "Sensitivity   : 0.9537\n",
            "Specificity   : 0.9769\n",
            "G-Mean        : 0.9652\n",
            "Type I Error  : 0.0231\n",
            "Type II Error : 0.0463\n",
            "F1 Score      : 0.9528\n",
            "AUROC         : 0.9791\n",
            "\n",
            "==== W-KNN ====\n",
            "Accuracy      : 0.9268\n",
            "Sensitivity   : 0.9268\n",
            "Specificity   : 0.9634\n",
            "G-Mean        : 0.9449\n",
            "Type I Error  : 0.0366\n",
            "Type II Error : 0.0732\n",
            "F1 Score      : 0.9260\n",
            "AUROC         : 0.9673\n"
          ]
        }
      ]
    },
    {
      "cell_type": "markdown",
      "source": [
        "Refined DSK-chain"
      ],
      "metadata": {
        "id": "6sm8hBTzM1Un"
      }
    },
    {
      "cell_type": "code",
      "source": [
        "estimators = [(name, model) for name, model in knn_variants.items()]\n",
        "stacking_clf = StackingClassifier(\n",
        "    estimators=estimators,\n",
        "    final_estimator=KNeighborsClassifier(n_neighbors=3, metric='euclidean'),\n",
        "    passthrough=False,\n",
        "    cv=10\n",
        ")\n",
        "print(\"\\n==== Stacking Ensemble 3 ====\")\n",
        "stacking_clf.fit(X_train, y_train)\n",
        "y_pred_stacking = stacking_clf.predict(X_test)\n",
        "try:\n",
        "    y_prob_stacking = stacking_clf.predict_proba(X_test)\n",
        "except Exception:\n",
        "    y_prob_stacking = None\n",
        "print_metrics(y_test, y_pred_stacking, y_prob_stacking)\n"
      ],
      "metadata": {
        "colab": {
          "base_uri": "https://localhost:8080/"
        },
        "id": "gD339fd49UHl",
        "outputId": "d917f4ac-e10e-4731-f145-a1efdcc82c51"
      },
      "execution_count": null,
      "outputs": [
        {
          "output_type": "stream",
          "name": "stdout",
          "text": [
            "\n",
            "==== Stacking Ensemble 3 ====\n"
          ]
        },
        {
          "output_type": "stream",
          "name": "stderr",
          "text": [
            "/usr/local/lib/python3.11/dist-packages/sklearn/neighbors/_classification.py:239: SyntaxWarning: Parameter p is found in metric_params. The corresponding parameter from __init__ is ignored.\n",
            "  return self._fit(X, y)\n",
            "/usr/local/lib/python3.11/dist-packages/sklearn/neighbors/_classification.py:239: SyntaxWarning: Parameter p is found in metric_params. The corresponding parameter from __init__ is ignored.\n",
            "  return self._fit(X, y)\n",
            "/usr/local/lib/python3.11/dist-packages/sklearn/neighbors/_classification.py:239: SyntaxWarning: Parameter p is found in metric_params. The corresponding parameter from __init__ is ignored.\n",
            "  return self._fit(X, y)\n",
            "/usr/local/lib/python3.11/dist-packages/sklearn/neighbors/_classification.py:239: SyntaxWarning: Parameter p is found in metric_params. The corresponding parameter from __init__ is ignored.\n",
            "  return self._fit(X, y)\n",
            "/usr/local/lib/python3.11/dist-packages/sklearn/neighbors/_classification.py:239: SyntaxWarning: Parameter p is found in metric_params. The corresponding parameter from __init__ is ignored.\n",
            "  return self._fit(X, y)\n",
            "/usr/local/lib/python3.11/dist-packages/sklearn/neighbors/_classification.py:239: SyntaxWarning: Parameter p is found in metric_params. The corresponding parameter from __init__ is ignored.\n",
            "  return self._fit(X, y)\n",
            "/usr/local/lib/python3.11/dist-packages/sklearn/neighbors/_classification.py:239: SyntaxWarning: Parameter p is found in metric_params. The corresponding parameter from __init__ is ignored.\n",
            "  return self._fit(X, y)\n",
            "/usr/local/lib/python3.11/dist-packages/sklearn/neighbors/_classification.py:239: SyntaxWarning: Parameter p is found in metric_params. The corresponding parameter from __init__ is ignored.\n",
            "  return self._fit(X, y)\n",
            "/usr/local/lib/python3.11/dist-packages/sklearn/neighbors/_classification.py:239: SyntaxWarning: Parameter p is found in metric_params. The corresponding parameter from __init__ is ignored.\n",
            "  return self._fit(X, y)\n",
            "/usr/local/lib/python3.11/dist-packages/sklearn/neighbors/_classification.py:239: SyntaxWarning: Parameter p is found in metric_params. The corresponding parameter from __init__ is ignored.\n",
            "  return self._fit(X, y)\n",
            "/usr/local/lib/python3.11/dist-packages/sklearn/neighbors/_classification.py:239: SyntaxWarning: Parameter p is found in metric_params. The corresponding parameter from __init__ is ignored.\n",
            "  return self._fit(X, y)\n"
          ]
        },
        {
          "output_type": "stream",
          "name": "stdout",
          "text": [
            "Accuracy      : 0.9798\n",
            "Sensitivity   : 0.9798\n",
            "Specificity   : 0.9899\n",
            "G-Mean        : 0.9849\n",
            "Type I Error  : 0.0101\n",
            "Type II Error : 0.0202\n",
            "F1 Score      : 0.9797\n",
            "AUROC         : 0.9903\n"
          ]
        }
      ]
    },
    {
      "cell_type": "code",
      "source": [
        "if y_prob_stacking is not None:\n",
        "    y_test_bin = label_binarize(y_test, classes=stacking_clf.classes_)\n",
        "    n_classes = y_prob_stacking.shape[1]\n",
        "    # Compute ROC curve and ROC area for each class\n",
        "    fpr = dict()\n",
        "    tpr = dict()\n",
        "    roc_auc = dict()\n",
        "    for i in range(n_classes):\n",
        "        fpr[i], tpr[i], _ = roc_curve(y_test_bin[:, i], y_prob_stacking[:, i])\n",
        "        roc_auc[i] = auc(fpr[i], tpr[i])\n",
        "\n",
        "    # Compute macro-average ROC curve and AUC\n",
        "    all_fpr = np.unique(np.concatenate([fpr[i] for i in range(n_classes)]))\n",
        "\n",
        "    #interpolate all ROC curves at these points\n",
        "    mean_tpr = np.zeros_like(all_fpr)\n",
        "    for i in range(n_classes):\n",
        "        mean_tpr += np.interp(all_fpr, fpr[i], tpr[i])\n",
        "\n",
        "    mean_tpr /= n_classes\n",
        "\n",
        "    macro_auc = auc(all_fpr, mean_tpr)\n",
        "\n",
        "\n",
        "    plt.rcParams.update({\n",
        "    'font.size': 12,\n",
        "    'axes.labelsize': 12,\n",
        "    'xtick.labelsize': 12,\n",
        "    'ytick.labelsize': 12,\n",
        "    'legend.fontsize': 12\n",
        "    })\n",
        "\n",
        "    plt.figure(figsize=(10, 10))\n",
        "    plt.plot(all_fpr, mean_tpr, color='red', lw=2,\n",
        "             label=f'DSK-Chain (AUC={macro_auc:.4f})')\n",
        "    plt.plot([0, 1], [0, 1], 'k--', lw=1)\n",
        "    plt.xlim([0.0, 1.0])\n",
        "    plt.ylim([0.0, 1.0])\n",
        "    plt.xlabel('False Positive Rate', labelpad=15)\n",
        "    plt.ylabel('True Positive Rate', labelpad=15)\n",
        "    plt.legend(loc=\"lower right\")\n",
        "    plt.show()"
      ],
      "metadata": {
        "colab": {
          "base_uri": "https://localhost:8080/",
          "height": 880
        },
        "id": "IWkZR6YsAh6e",
        "outputId": "07c7e486-e741-4c6e-e99f-651b6753283b"
      },
      "execution_count": null,
      "outputs": [
        {
          "output_type": "display_data",
          "data": {
            "text/plain": [
              "<Figure size 1000x1000 with 1 Axes>"
            ],
            "image/png": "[encoded data removed]"
          },
          "metadata": {}
        }
      ]
    }
  ]
}